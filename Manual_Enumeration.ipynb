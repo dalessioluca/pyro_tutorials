{
 "cells": [
  {
   "cell_type": "markdown",
   "metadata": {},
   "source": [
    "# Manual enumeration of Variable in the Guide\n",
    "\n",
    "### TASK\n",
    "Given the data you need to infer:\n",
    "1. two locations\n",
    "2. two scales\n",
    "3. assigment for each data point\n",
    "\n",
    "### MODEL\n",
    "with pyro.plate('components', 2):\n",
    "\n",
    "    loc ~ dist.Normal(0., 5.)\n",
    "    \n",
    "    scale ~ dist.LogNormal(0., 0.1)\n",
    "    \n",
    "with pyro.plate('data', batch_size):\n",
    "\n",
    "    p ~ dist.Beta(concentration0=2, concentration1=2)\n",
    "    \n",
    "    c ~ dist.Bernoulli(p)\n",
    "    \n",
    "    x ~ dist.Normal(loc[c],scale[c])\n",
    "    \n",
    "### GUIDE\n",
    "alpha = pyro.param('alpha', dist.LogNormal(0., 0.5).expand([2]))\n",
    "\n",
    "beta = pyro.param('beta', dist.LogNormal(0., 0.5).expand([2]))\n",
    "\n",
    "with pyro.plate('data', batch_size):\n",
    "\n",
    "    p ~ dist.Beta(concentration0=alpha, concentration1=beta)\n",
    "    \n",
    "    c ~ dist.Bernoulli(p)\n",
    "    \n",
    "### Comparison\n",
    "I will compare:\n",
    "1. Trace_ELBO\n",
    "2. TraceGraph_ELBO\n",
    "3. TraceEnum_ELBO in model\n",
    "4. TraceEnum_ELBO in guide\n",
    "5. Manual Enumeration in guide"
   ]
  },
  {
   "cell_type": "code",
   "execution_count": 1,
   "metadata": {},
   "outputs": [],
   "source": [
    "%load_ext autoreload\n",
    "%autoreload 2"
   ]
  },
  {
   "cell_type": "code",
   "execution_count": 2,
   "metadata": {},
   "outputs": [],
   "source": [
    "%matplotlib inline\n",
    "import matplotlib.pyplot as plt\n",
    "\n",
    "import numpy as np\n",
    "import torch\n",
    "import pyro\n",
    "import pyro.distributions as dist\n",
    "from torch.distributions import constraints\n",
    "from pyro.infer import SVI, Trace_ELBO, TraceEnum_ELBO, TraceGraph_ELBO\n",
    "from pyro.optim import Adam\n",
    "\n",
    "# Set up pyro environment\n",
    "pyro.clear_param_store()\n",
    "pyro.set_rng_seed(0)\n",
    "\n",
    "# Set up pyro environment\\n\",\n",
    "smoke_test= False\n",
    "if(smoke_test):\n",
    "   pyro.enable_validation(True)\n",
    "   pyro.distributions.enable_validation(True)\n",
    "   NUM_EPOCHS = 6\n",
    "else:\n",
    "   pyro.enable_validation(False)\n",
    "   pyro.distributions.enable_validation(False)\n",
    "   NUM_EPOCHS = 101\n",
    "\n",
    "assert(pyro.__version__.startswith('0.4'))\n",
    "assert(torch.__version__.startswith('1.2'))"
   ]
  },
  {
   "cell_type": "code",
   "execution_count": 3,
   "metadata": {},
   "outputs": [],
   "source": [
    "def normal(x, mu, sigma):\n",
    "    \"\"\" Return the value of N(mu,sigma) at the locations x\n",
    "\n",
    "        Typical usage:\n",
    "        x = np.arange(0.0,1.0,0.01)\n",
    "        y1 = normal(x,0.1,0.1)\n",
    "        plt.plot(x,y1,'-')\n",
    "    \"\"\"\n",
    "    tmp = ((x-mu)/sigma)**2\n",
    "    c = 1.0/(np.sqrt(2*np.pi)*sigma)\n",
    "    return np.exp(-0.5*tmp)*c"
   ]
  },
  {
   "cell_type": "markdown",
   "metadata": {},
   "source": [
    "## Define Model and Guide"
   ]
  },
  {
   "cell_type": "code",
   "execution_count": 17,
   "metadata": {},
   "outputs": [],
   "source": [
    "#Fix the number of components\n",
    "K = 2\n",
    "def model(data=None, N=100, verbose=False):\n",
    "    if(data is None):\n",
    "        batch_size = N\n",
    "        observed=False\n",
    "    else:\n",
    "        batch_size = data.shape[0]\n",
    "        observed=True\n",
    "    one = torch.ones([1])\n",
    "        \n",
    "    # Global variables.\n",
    "    with pyro.plate('components', K):\n",
    "        loc = pyro.sample('loc', dist.Normal(0*one, 5*one))\n",
    "        \n",
    "    with pyro.plate('data', batch_size):\n",
    "        p = pyro.sample('p', dist.Beta(concentration0=0.5*one, concentration1=0.2*one))\n",
    "        c = pyro.sample('c', dist.Bernoulli(p)).long()\n",
    "        \n",
    "        if(observed):\n",
    "            x = pyro.sample('obs', dist.Normal(loc[c], one), obs=data)\n",
    "        else:\n",
    "            x = dist.Normal(loc[c], one).sample()\n",
    "    \n",
    "    return {'loc':loc, 'p':p, 'c':c, 'x':x}      \n",
    "\n",
    "def guide(data=None, N=100):\n",
    "    if(data is None):\n",
    "        batch_size = N\n",
    "    else:\n",
    "        batch_size = data.shape[0]\n",
    "        \n",
    "    ones = torch.ones([K])  \n",
    "    loc_mu = pyro.param('loc_mu', torch.randn(K), constraint=constraints.real)\n",
    "    \n",
    "    with pyro.plate('components', K):\n",
    "        #loc = pyro.sample('loc', dist.Normal(locs_mu, locs_std))\n",
    "        #scale = pyro.sample('scale', dist.LogNormal(scale_mu, scale_std)) \n",
    "        loc = pyro.sample('loc', dist.Delta(loc_mu))\n",
    "        \n",
    "    alpha = pyro.param('alpha', dist.LogNormal(0., 0.5).expand([batch_size]))\n",
    "    beta = pyro.param('beta', dist.LogNormal(0., 0.5).expand([batch_size]))\n",
    "    with pyro.plate('data', batch_size):\n",
    "        p = pyro.sample(\"p\", dist.Beta(concentration0=alpha, concentration1=beta))\n",
    "        c = pyro.sample(\"c\", dist.Bernoulli(p), infer={\"enumerate\": \"parallel\"})    \n",
    "    "
   ]
  },
  {
   "cell_type": "markdown",
   "metadata": {},
   "source": [
    "# Generate and Visualize the input data"
   ]
  },
  {
   "cell_type": "code",
   "execution_count": 18,
   "metadata": {},
   "outputs": [],
   "source": [
    "truth = model(data=None, N=10000)"
   ]
  },
  {
   "cell_type": "code",
   "execution_count": 19,
   "metadata": {},
   "outputs": [
    {
     "name": "stdout",
     "output_type": "stream",
     "text": [
      "loc tensor([-1.0174,  5.9436])\n"
     ]
    },
    {
     "data": {
      "image/png": "[encoded data removed]",
      "text/plain": [
       "<Figure size 432x288 with 1 Axes>"
      ]
     },
     "metadata": {
      "needs_background": "light"
     },
     "output_type": "display_data"
    }
   ],
   "source": [
    "x = np.arange(-10,10,0.1)\n",
    "y0 = normal(x, truth[\"loc\"][0].numpy(), 1.0)\n",
    "y1 = normal(x, truth[\"loc\"][1].numpy(), 1.0)\n",
    "n1 = torch.sum(truth[\"c\"]).float()\n",
    "n0 = torch.sum(1-truth[\"c\"]).float()\n",
    "f0 = (n0/(n0+n1)).numpy()\n",
    "f1 = (n1/(n0+n1)).numpy()\n",
    "\n",
    "plt.hist(truth[\"x\"].numpy(), bins=50, density=True, label=\"Empirical\")\n",
    "plt.plot(x, y0*f0, '-', label=\"N0\")\n",
    "plt.plot(x, y1*f1, '-', label=\"N1\")\n",
    "plt.legend()\n",
    "\n",
    "print(\"loc\",truth[\"loc\"])"
   ]
  },
  {
   "cell_type": "markdown",
   "metadata": {},
   "source": [
    "# TraceEnum_ELBO"
   ]
  },
  {
   "cell_type": "code",
   "execution_count": 20,
   "metadata": {},
   "outputs": [],
   "source": [
    "# Initialization\n",
    "optim = Adam({'lr': 2E-3})\n",
    "EPOCH_MAX = 20000\n",
    "pyro.clear_param_store()\n",
    "svi = SVI(model, guide, optim, loss=TraceEnum_ELBO(max_plate_nesting=1))\n",
    "\n",
    "ENUM_history = { \"loss\":[], \"l0\":[], \"l1\":[], \"s0\":[], \"s1\":[]}\n",
    "ENUM_final = {\"pa\":[], \"pb\":[]}"
   ]
  },
  {
   "cell_type": "code",
   "execution_count": 22,
   "metadata": {},
   "outputs": [
    {
     "name": "stdout",
     "output_type": "stream",
     "text": [
      "0 84191.484375 [-1.3462149   0.50211585]\n",
      "1000 44895.8359375 [-0.71743083  2.8229885 ]\n",
      "2000 36738.91015625 [-0.80757517  4.2608943 ]\n",
      "3000 34291.05078125 [-0.82656693  5.0305576 ]\n",
      "4000 33440.16796875 [-0.83674604  5.3173046 ]\n",
      "5000 32322.228515625 [-0.84897655  5.4062195 ]\n",
      "6000 32228.279296875 [-0.8566862  5.4567447]\n",
      "7000 31621.998046875 [-0.86218196  5.493587  ]\n",
      "8000 31412.0234375 [-0.8699378  5.525022 ]\n",
      "9000 31174.22265625 [-0.8748192  5.54898  ]\n",
      "10000 30815.818359375 [-0.87805426  5.5742826 ]\n",
      "11000 30525.1015625 [-0.8809972  5.5963554]\n"
     ]
    },
    {
     "ename": "KeyboardInterrupt",
     "evalue": "",
     "output_type": "error",
     "traceback": [
      "\u001b[0;31m---------------------------------------------------------------------------\u001b[0m",
      "\u001b[0;31mKeyboardInterrupt\u001b[0m                         Traceback (most recent call last)",
      "\u001b[0;32m<ipython-input-22-115db724bc18>\u001b[0m in \u001b[0;36m<module>\u001b[0;34m\u001b[0m\n\u001b[1;32m      1\u001b[0m \u001b[0;31m# Training\u001b[0m\u001b[0;34m\u001b[0m\u001b[0;34m\u001b[0m\u001b[0;34m\u001b[0m\u001b[0m\n\u001b[1;32m      2\u001b[0m \u001b[0;32mfor\u001b[0m \u001b[0mi\u001b[0m \u001b[0;32min\u001b[0m \u001b[0mrange\u001b[0m\u001b[0;34m(\u001b[0m\u001b[0mEPOCH_MAX\u001b[0m\u001b[0;34m)\u001b[0m\u001b[0;34m:\u001b[0m\u001b[0;34m\u001b[0m\u001b[0;34m\u001b[0m\u001b[0m\n\u001b[0;32m----> 3\u001b[0;31m     \u001b[0mloss\u001b[0m \u001b[0;34m=\u001b[0m \u001b[0msvi\u001b[0m\u001b[0;34m.\u001b[0m\u001b[0mstep\u001b[0m\u001b[0;34m(\u001b[0m\u001b[0mtruth\u001b[0m\u001b[0;34m[\u001b[0m\u001b[0;34m'x'\u001b[0m\u001b[0;34m]\u001b[0m\u001b[0;34m)\u001b[0m\u001b[0;34m\u001b[0m\u001b[0;34m\u001b[0m\u001b[0m\n\u001b[0m\u001b[1;32m      4\u001b[0m     \u001b[0mloc\u001b[0m \u001b[0;34m=\u001b[0m \u001b[0mpyro\u001b[0m\u001b[0;34m.\u001b[0m\u001b[0mparam\u001b[0m\u001b[0;34m(\u001b[0m\u001b[0;34m\"loc_mu\"\u001b[0m\u001b[0;34m)\u001b[0m\u001b[0;34m.\u001b[0m\u001b[0mdetach\u001b[0m\u001b[0;34m(\u001b[0m\u001b[0;34m)\u001b[0m\u001b[0;34m.\u001b[0m\u001b[0mnumpy\u001b[0m\u001b[0;34m(\u001b[0m\u001b[0;34m)\u001b[0m\u001b[0;34m\u001b[0m\u001b[0;34m\u001b[0m\u001b[0m\n\u001b[1;32m      5\u001b[0m     \u001b[0mENUM_history\u001b[0m\u001b[0;34m[\u001b[0m\u001b[0;34m\"loss\"\u001b[0m\u001b[0;34m]\u001b[0m\u001b[0;34m.\u001b[0m\u001b[0mappend\u001b[0m\u001b[0;34m(\u001b[0m\u001b[0mloss\u001b[0m\u001b[0;34m)\u001b[0m\u001b[0;34m\u001b[0m\u001b[0;34m\u001b[0m\u001b[0m\n",
      "\u001b[0;32m~/anaconda3/envs/pyro/lib/python3.7/site-packages/pyro/infer/svi.py\u001b[0m in \u001b[0;36mstep\u001b[0;34m(self, *args, **kwargs)\u001b[0m\n\u001b[1;32m     96\u001b[0m         \u001b[0;31m# get loss and compute gradients\u001b[0m\u001b[0;34m\u001b[0m\u001b[0;34m\u001b[0m\u001b[0;34m\u001b[0m\u001b[0m\n\u001b[1;32m     97\u001b[0m         \u001b[0;32mwith\u001b[0m \u001b[0mpoutine\u001b[0m\u001b[0;34m.\u001b[0m\u001b[0mtrace\u001b[0m\u001b[0;34m(\u001b[0m\u001b[0mparam_only\u001b[0m\u001b[0;34m=\u001b[0m\u001b[0;32mTrue\u001b[0m\u001b[0;34m)\u001b[0m \u001b[0;32mas\u001b[0m \u001b[0mparam_capture\u001b[0m\u001b[0;34m:\u001b[0m\u001b[0;34m\u001b[0m\u001b[0;34m\u001b[0m\u001b[0m\n\u001b[0;32m---> 98\u001b[0;31m             \u001b[0mloss\u001b[0m \u001b[0;34m=\u001b[0m \u001b[0mself\u001b[0m\u001b[0;34m.\u001b[0m\u001b[0mloss_and_grads\u001b[0m\u001b[0;34m(\u001b[0m\u001b[0mself\u001b[0m\u001b[0;34m.\u001b[0m\u001b[0mmodel\u001b[0m\u001b[0;34m,\u001b[0m \u001b[0mself\u001b[0m\u001b[0;34m.\u001b[0m\u001b[0mguide\u001b[0m\u001b[0;34m,\u001b[0m \u001b[0;34m*\u001b[0m\u001b[0margs\u001b[0m\u001b[0;34m,\u001b[0m \u001b[0;34m**\u001b[0m\u001b[0mkwargs\u001b[0m\u001b[0;34m)\u001b[0m\u001b[0;34m\u001b[0m\u001b[0;34m\u001b[0m\u001b[0m\n\u001b[0m\u001b[1;32m     99\u001b[0m \u001b[0;34m\u001b[0m\u001b[0m\n\u001b[1;32m    100\u001b[0m         params = set(site[\"value\"].unconstrained()\n",
      "\u001b[0;32m~/anaconda3/envs/pyro/lib/python3.7/site-packages/pyro/infer/traceenum_elbo.py\u001b[0m in \u001b[0;36mloss_and_grads\u001b[0;34m(self, model, guide, *args, **kwargs)\u001b[0m\n\u001b[1;32m    386\u001b[0m             \u001b[0;32mif\u001b[0m \u001b[0mtrainable_params\u001b[0m \u001b[0;32mand\u001b[0m \u001b[0melbo_particle\u001b[0m\u001b[0;34m.\u001b[0m\u001b[0mrequires_grad\u001b[0m\u001b[0;34m:\u001b[0m\u001b[0;34m\u001b[0m\u001b[0;34m\u001b[0m\u001b[0m\n\u001b[1;32m    387\u001b[0m                 \u001b[0mloss_particle\u001b[0m \u001b[0;34m=\u001b[0m \u001b[0;34m-\u001b[0m\u001b[0melbo_particle\u001b[0m\u001b[0;34m\u001b[0m\u001b[0;34m\u001b[0m\u001b[0m\n\u001b[0;32m--> 388\u001b[0;31m                 \u001b[0;34m(\u001b[0m\u001b[0mloss_particle\u001b[0m \u001b[0;34m/\u001b[0m \u001b[0mself\u001b[0m\u001b[0;34m.\u001b[0m\u001b[0mnum_particles\u001b[0m\u001b[0;34m)\u001b[0m\u001b[0;34m.\u001b[0m\u001b[0mbackward\u001b[0m\u001b[0;34m(\u001b[0m\u001b[0mretain_graph\u001b[0m\u001b[0;34m=\u001b[0m\u001b[0;32mTrue\u001b[0m\u001b[0;34m)\u001b[0m\u001b[0;34m\u001b[0m\u001b[0;34m\u001b[0m\u001b[0m\n\u001b[0m\u001b[1;32m    389\u001b[0m \u001b[0;34m\u001b[0m\u001b[0m\n\u001b[1;32m    390\u001b[0m         \u001b[0mloss\u001b[0m \u001b[0;34m=\u001b[0m \u001b[0;34m-\u001b[0m\u001b[0melbo\u001b[0m\u001b[0;34m\u001b[0m\u001b[0;34m\u001b[0m\u001b[0m\n",
      "\u001b[0;32m~/anaconda3/envs/pyro/lib/python3.7/site-packages/torch/tensor.py\u001b[0m in \u001b[0;36mbackward\u001b[0;34m(self, gradient, retain_graph, create_graph)\u001b[0m\n\u001b[1;32m    116\u001b[0m                 \u001b[0mproducts\u001b[0m\u001b[0;34m.\u001b[0m \u001b[0mDefaults\u001b[0m \u001b[0mto\u001b[0m\u001b[0;31m \u001b[0m\u001b[0;31m`\u001b[0m\u001b[0;31m`\u001b[0m\u001b[0;32mFalse\u001b[0m\u001b[0;31m`\u001b[0m\u001b[0;31m`\u001b[0m\u001b[0;34m.\u001b[0m\u001b[0;34m\u001b[0m\u001b[0;34m\u001b[0m\u001b[0m\n\u001b[1;32m    117\u001b[0m         \"\"\"\n\u001b[0;32m--> 118\u001b[0;31m         \u001b[0mtorch\u001b[0m\u001b[0;34m.\u001b[0m\u001b[0mautograd\u001b[0m\u001b[0;34m.\u001b[0m\u001b[0mbackward\u001b[0m\u001b[0;34m(\u001b[0m\u001b[0mself\u001b[0m\u001b[0;34m,\u001b[0m \u001b[0mgradient\u001b[0m\u001b[0;34m,\u001b[0m \u001b[0mretain_graph\u001b[0m\u001b[0;34m,\u001b[0m \u001b[0mcreate_graph\u001b[0m\u001b[0;34m)\u001b[0m\u001b[0;34m\u001b[0m\u001b[0;34m\u001b[0m\u001b[0m\n\u001b[0m\u001b[1;32m    119\u001b[0m \u001b[0;34m\u001b[0m\u001b[0m\n\u001b[1;32m    120\u001b[0m     \u001b[0;32mdef\u001b[0m \u001b[0mregister_hook\u001b[0m\u001b[0;34m(\u001b[0m\u001b[0mself\u001b[0m\u001b[0;34m,\u001b[0m \u001b[0mhook\u001b[0m\u001b[0;34m)\u001b[0m\u001b[0;34m:\u001b[0m\u001b[0;34m\u001b[0m\u001b[0;34m\u001b[0m\u001b[0m\n",
      "\u001b[0;32m~/anaconda3/envs/pyro/lib/python3.7/site-packages/torch/autograd/__init__.py\u001b[0m in \u001b[0;36mbackward\u001b[0;34m(tensors, grad_tensors, retain_graph, create_graph, grad_variables)\u001b[0m\n\u001b[1;32m     91\u001b[0m     Variable._execution_engine.run_backward(\n\u001b[1;32m     92\u001b[0m         \u001b[0mtensors\u001b[0m\u001b[0;34m,\u001b[0m \u001b[0mgrad_tensors\u001b[0m\u001b[0;34m,\u001b[0m \u001b[0mretain_graph\u001b[0m\u001b[0;34m,\u001b[0m \u001b[0mcreate_graph\u001b[0m\u001b[0;34m,\u001b[0m\u001b[0;34m\u001b[0m\u001b[0;34m\u001b[0m\u001b[0m\n\u001b[0;32m---> 93\u001b[0;31m         allow_unreachable=True)  # allow_unreachable flag\n\u001b[0m\u001b[1;32m     94\u001b[0m \u001b[0;34m\u001b[0m\u001b[0m\n\u001b[1;32m     95\u001b[0m \u001b[0;34m\u001b[0m\u001b[0m\n",
      "\u001b[0;31mKeyboardInterrupt\u001b[0m: "
     ]
    }
   ],
   "source": [
    "# Training\n",
    "for i in range(EPOCH_MAX):\n",
    "    loss = svi.step(truth['x'])\n",
    "    loc = pyro.param(\"loc_mu\").detach().numpy()\n",
    "    ENUM_history[\"loss\"].append(loss)\n",
    "    ENUM_history[\"l0\"].append(loc[0])\n",
    "    ENUM_history[\"l1\"].append(loc[1])\n",
    "    if (i%1000)==0:\n",
    "        print(i,loss,loc)\n",
    "ENUM_final[\"pa\"] = pyro.param(\"alpha\").detach().numpy()\n",
    "ENUM_final[\"pb\"] = pyro.param(\"beta\").detach().numpy()"
   ]
  },
  {
   "cell_type": "markdown",
   "metadata": {},
   "source": [
    "### Plot Results"
   ]
  },
  {
   "cell_type": "code",
   "execution_count": 23,
   "metadata": {},
   "outputs": [
    {
     "data": {
      "text/plain": [
       "<matplotlib.legend.Legend at 0x11e88ce10>"
      ]
     },
     "execution_count": 23,
     "metadata": {},
     "output_type": "execute_result"
    },
    {
     "data": {
      "image/png": "[encoded data removed]",
      "text/plain": [
       "<Figure size 432x288 with 1 Axes>"
      ]
     },
     "metadata": {
      "needs_background": "light"
     },
     "output_type": "display_data"
    }
   ],
   "source": [
    "plt.plot(ENUM_history[\"l0\"], label = \"loc0\")\n",
    "plt.plot(ENUM_history[\"l1\"], label = \"loc1\")\n",
    "plt.legend()"
   ]
  },
  {
   "cell_type": "code",
   "execution_count": 25,
   "metadata": {},
   "outputs": [],
   "source": [
    "\n",
    "ENUM_final[\"pa\"] = pyro.param(\"alpha\").detach().numpy()\n",
    "ENUM_final[\"pb\"] = pyro.param(\"beta\").detach().numpy()"
   ]
  },
  {
   "cell_type": "code",
   "execution_count": 27,
   "metadata": {},
   "outputs": [
    {
     "data": {
      "text/plain": [
       "<matplotlib.legend.Legend at 0x11eeb85f8>"
      ]
     },
     "execution_count": 27,
     "metadata": {},
     "output_type": "execute_result"
    },
    {
     "data": {
      "image/png": "[encoded data removed]",
      "text/plain": [
       "<Figure size 432x288 with 1 Axes>"
      ]
     },
     "metadata": {
      "needs_background": "light"
     },
     "output_type": "display_data"
    }
   ],
   "source": [
    "x = np.arange(-10,10,0.1)\n",
    "p_mean = ENUM_final[\"pa\"]/(ENUM_final[\"pa\"]+ENUM_final[\"pb\"])\n",
    "n0=np.sum(p_mean>0.5)\n",
    "n1=np.sum(p_mean<0.5)\n",
    "f0=float(n0)/(n0+n1)\n",
    "f1=float(n1)/(n0+n1)\n",
    "y0 = normal(x, ENUM_history[\"l0\"][-1], 1.0)\n",
    "y1 = normal(x, ENUM_history[\"l1\"][-1], 1.0)\n",
    "plt.hist(truth[\"x\"].numpy(), bins=50, density=True, label=\"Empirical\")\n",
    "plt.plot(x, y0*f0, '-', label=\"N0\")\n",
    "plt.plot(x, y1*f1, '-', label=\"N1\")\n",
    "plt.legend()"
   ]
  },
  {
   "cell_type": "code",
   "execution_count": 28,
   "metadata": {},
   "outputs": [],
   "source": [
    "# Initialization\n",
    "optim = Adam({'lr': 2E-3})\n",
    "EPOCH_MAX = 20000\n",
    "pyro.clear_param_store()\n",
    "svi = SVI(model, guide, optim, loss=TraceGraph_ELBO(max_plate_nesting=1))\n",
    "\n",
    "GRAPH_history = { \"loss\":[], \"l0\":[], \"l1\":[], \"s0\":[], \"s1\":[]}\n",
    "GRAPH_final = {\"pa\":[], \"pb\":[]}"
   ]
  },
  {
   "cell_type": "code",
   "execution_count": 29,
   "metadata": {},
   "outputs": [
    {
     "name": "stdout",
     "output_type": "stream",
     "text": [
      "0 82140.171875 [-0.6237607  -0.51964223]\n",
      "1000 64505.3984375 [0.4154641 1.1543058]\n",
      "2000 52947.51953125 [-0.04940033  2.7517436 ]\n",
      "3000 40827.9453125 [-0.6690883  4.2683015]\n",
      "4000 36796.26171875 [-0.7580003  4.945924 ]\n",
      "5000 36691.55859375 [-0.7784154  5.1335955]\n"
     ]
    },
    {
     "name": "stderr",
     "output_type": "stream",
     "text": [
      "/Users/ldalessi/anaconda3/envs/pyro/lib/python3.7/site-packages/pyro/infer/tracegraph_elbo.py:258: UserWarning: Encountered NaN: loss\n",
      "  warn_if_nan(loss, \"loss\")\n"
     ]
    },
    {
     "name": "stdout",
     "output_type": "stream",
     "text": [
      "6000 nan [-0.79388815  5.2100863 ]\n",
      "7000 nan [-0.8024302  5.264534 ]\n",
      "8000 nan [-0.81653845  5.312209  ]\n",
      "9000 nan [-0.81783813  5.3451543 ]\n",
      "10000 nan [-0.8278863  5.3683577]\n",
      "11000 nan [-0.8295423  5.392592 ]\n",
      "12000 nan [-0.84020865  5.4031143 ]\n",
      "13000 nan [-0.8388555  5.4263515]\n",
      "14000 nan [-0.8529871  5.452964 ]\n",
      "15000 nan [-0.8455192  5.4726896]\n",
      "16000 nan [-0.85392994  5.4801545 ]\n",
      "17000 nan [-0.8506488  5.502721 ]\n",
      "18000 nan [-0.85661614  5.5276847 ]\n",
      "19000 nan [-0.8652554  5.5253763]\n"
     ]
    }
   ],
   "source": [
    "# Training\n",
    "for i in range(EPOCH_MAX):\n",
    "    loss = svi.step(truth['x'])\n",
    "    loc = pyro.param(\"loc_mu\").detach().numpy()\n",
    "    GRAPH_history[\"loss\"].append(loss)\n",
    "    GRAPH_history[\"l0\"].append(loc[0])\n",
    "    GRAPH_history[\"l1\"].append(loc[1])\n",
    "    if (i%1000)==0:\n",
    "        print(i,loss,loc)\n",
    "GRAPH_final[\"pa\"] = pyro.param(\"alpha\").detach().numpy()\n",
    "GRAPH_final[\"pb\"] = pyro.param(\"beta\").detach().numpy()"
   ]
  }
 ],
 "metadata": {
  "kernelspec": {
   "display_name": "Python 3",
   "language": "python",
   "name": "python3"
  },
  "language_info": {
   "codemirror_mode": {
    "name": "ipython",
    "version": 3
   },
   "file_extension": ".py",
   "mimetype": "text/x-python",
   "name": "python",
   "nbconvert_exporter": "python",
   "pygments_lexer": "ipython3",
   "version": "3.7.3"
  }
 },
 "nbformat": 4,
 "nbformat_minor": 2
}
